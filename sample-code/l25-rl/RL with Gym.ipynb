{
 "cells": [
  {
   "cell_type": "code",
   "execution_count": 1,
   "id": "1609e55b",
   "metadata": {},
   "outputs": [],
   "source": [
    "# Based on https://gymnasium.farama.org/ and\n",
    "# https://gymnasium.farama.org/introduction/basic_usage/"
   ]
  },
  {
   "cell_type": "code",
   "execution_count": 2,
   "id": "a37de7ac",
   "metadata": {},
   "outputs": [],
   "source": [
    "# Install, if needed\n",
    "# !pip install gymnasium"
   ]
  },
  {
   "cell_type": "code",
   "execution_count": 3,
   "id": "3af5c041",
   "metadata": {},
   "outputs": [],
   "source": [
    "import gymnasium as gym"
   ]
  },
  {
   "cell_type": "markdown",
   "id": "b3c76820",
   "metadata": {},
   "source": [
    "# Trying LunanLander example"
   ]
  },
  {
   "cell_type": "code",
   "execution_count": 4,
   "id": "8f433c22",
   "metadata": {},
   "outputs": [],
   "source": [
    "# As mentioned in documentation, but it failed\n",
    "#!pip install gymnasium[box2d]\n",
    "\n",
    "# Based on https://github.com/openai/gym/issues/2795, this works\n",
    "# Install if needed\n",
    "#!pip install box2d pygame"
   ]
  },
  {
   "cell_type": "code",
   "execution_count": 5,
   "id": "7ebe0427",
   "metadata": {},
   "outputs": [],
   "source": [
    "# Initialise the environment\n",
    "env = gym.make(\"LunarLander-v2\", render_mode=\"human\")\n"
   ]
  },
  {
   "cell_type": "code",
   "execution_count": 6,
   "id": "57b7592a",
   "metadata": {},
   "outputs": [],
   "source": [
    "# Reset the environment to generate the first observation\n",
    "observation, info = env.reset(seed=42)\n",
    "for _ in range(1000):\n",
    "    # this is where you would insert your policy\n",
    "    action = env.action_space.sample()\n",
    "\n",
    "    # step (transition) through the environment with the action\n",
    "    # receiving the next observation, reward and if the episode has terminated or truncated\n",
    "    observation, reward, terminated, truncated, info = env.step(action)\n",
    "\n",
    "    # If the episode has ended then we can reset to start a new episode\n",
    "    if terminated or truncated:\n",
    "        observation, info = env.reset()\n",
    "\n",
    "env.close()"
   ]
  },
  {
   "cell_type": "markdown",
   "id": "54097bad",
   "metadata": {},
   "source": [
    "# Car Racing"
   ]
  },
  {
   "cell_type": "code",
   "execution_count": 1,
   "id": "8662a396",
   "metadata": {},
   "outputs": [],
   "source": [
    "# Based on https://gymnasium.farama.org/introduction/basic_usage/\n",
    "from gymnasium.wrappers import FlattenObservation"
   ]
  },
  {
   "cell_type": "code",
   "execution_count": 2,
   "id": "b52b1aa0",
   "metadata": {},
   "outputs": [],
   "source": [
    "import gymnasium as gym"
   ]
  },
  {
   "cell_type": "code",
   "execution_count": 3,
   "id": "3d725f56",
   "metadata": {},
   "outputs": [],
   "source": [
    "env = gym.make(\"CarRacing-v2\", render_mode=\"human\")"
   ]
  },
  {
   "cell_type": "code",
   "execution_count": 4,
   "id": "b862c93e",
   "metadata": {},
   "outputs": [
    {
     "data": {
      "text/plain": [
       "(96, 96, 3)"
      ]
     },
     "execution_count": 4,
     "metadata": {},
     "output_type": "execute_result"
    }
   ],
   "source": [
    "env.observation_space.shape"
   ]
  },
  {
   "cell_type": "code",
   "execution_count": 5,
   "id": "8156183f",
   "metadata": {},
   "outputs": [],
   "source": [
    "wrapped_env = FlattenObservation(env)"
   ]
  },
  {
   "cell_type": "code",
   "execution_count": 6,
   "id": "c1904d20",
   "metadata": {},
   "outputs": [],
   "source": [
    "# Reset the environment to generate the first observation\n",
    "observation, info = env.reset(seed=42)\n",
    "for _ in range(1000):\n",
    "    # this is where you would insert your policy\n",
    "    action = env.action_space.sample()\n",
    "\n",
    "    # step (transition) through the environment with the action\n",
    "    # receiving the next observation, reward and if the episode has terminated or truncated\n",
    "    observation, reward, terminated, truncated, info = env.step(action)\n",
    "\n",
    "    # If the episode has ended then we can reset to start a new episode\n",
    "    if terminated or truncated:\n",
    "        observation, info = env.reset()\n",
    "\n",
    "env.close()"
   ]
  },
  {
   "cell_type": "code",
   "execution_count": null,
   "id": "38f0d4a7",
   "metadata": {},
   "outputs": [],
   "source": []
  }
 ],
 "metadata": {
  "kernelspec": {
   "display_name": "Python 3",
   "language": "python",
   "name": "python3"
  },
  "language_info": {
   "codemirror_mode": {
    "name": "ipython",
    "version": 3
   },
   "file_extension": ".py",
   "mimetype": "text/x-python",
   "name": "python",
   "nbconvert_exporter": "python",
   "pygments_lexer": "ipython3",
   "version": "3.7.6"
  }
 },
 "nbformat": 4,
 "nbformat_minor": 5
}
